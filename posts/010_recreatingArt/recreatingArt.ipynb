{
 "cells": [
  {
   "cell_type": "raw",
   "id": "97a61c8c-1dab-4bba-9a96-281199cdcd72",
   "metadata": {},
   "source": [
    "---\n",
    "title: \"Can Chat-GPT5 recreate a famous piece of art from scratch?\"\n",
    "description: \"How good are LLMs at following directions to recreate art\" \n",
    "author: \"Alina\"\n",
    "date: \"10/4/2025\"\n",
    "categories:\n",
    "  - LLMs\n",
    "  - Art\n",
    "  - Images\n",
    "  - Creativity\n",
    "---"
   ]
  },
  {
   "cell_type": "markdown",
   "id": "6664e984-7f81-4fad-8381-ac7578768982",
   "metadata": {},
   "source": [
    "### Can Chat-GPT5 recreate 'Girl with a Pearl Earring'"
   ]
  },
  {
   "cell_type": "markdown",
   "id": "5872b341-bfab-4a9a-9daf-2fcb78889cd4",
   "metadata": {},
   "source": [
    "One of the most famous and recognizable paintings of all time, 'Girl with a Pearl Earring' was painted by Johannes Vermeer around 1665. With only descriptions and directions from me, how close can Chat-GPT5 get to the original painting?"
   ]
  },
  {
   "cell_type": "markdown",
   "id": "9ed6454d-15b4-42e4-be54-a327e282b78d",
   "metadata": {},
   "source": [
    "![](originalPainting.png)"
   ]
  },
  {
   "cell_type": "markdown",
   "id": "390d6c17-f3ae-4997-ad43-8a2fa0bf1537",
   "metadata": {},
   "source": [
    "### Prompts and Output"
   ]
  },
  {
   "cell_type": "markdown",
   "id": "83187024-057f-4b64-a886-4ec82f43ae72",
   "metadata": {},
   "source": [
    "**Initial Prompt:** I am going to ask you to make an oil painting of person. I will give you descriptions of how to paint the portrait. Ready?"
   ]
  },
  {
   "cell_type": "markdown",
   "id": "fe7ebf26-5c52-4bf9-aa6f-e1c14776f0a7",
   "metadata": {},
   "source": [
    "Description 1:\n",
    "> The portrait depicts a young woman with fair skin with larger eyes and a rounder face. Her body is facing away from the painter but her head is turned so she is looking towards the painter. We can see only about three quarters of her face. She is wearing a yellow dutch jacket that covers her shoulders and we can only see her shoulders and above. She is wearing an 'oriental' headress that is blue around the headband and yellow elsewhere. She also has a large pearl earring dangling from her left ear. Create an original image.  "
   ]
  },
  {
   "cell_type": "markdown",
   "id": "c4af94d7-4299-4438-bf0d-6e9ea81a7a93",
   "metadata": {},
   "source": [
    "![](attempt1.png)"
   ]
  },
  {
   "cell_type": "markdown",
   "id": "2a5d9ebe-300a-4c15-8b8a-358f3140bb12",
   "metadata": {},
   "source": [
    "#### Hmm, that may have worked a bit too well, especially since I requested an 'original image'. Since this is eerily close to the original painting, I am now going to see if Chat-GPT5 can extend the portrait to include the full body."
   ]
  },
  {
   "cell_type": "markdown",
   "id": "e1c47935-0366-463e-a6e1-408bcd53f3b5",
   "metadata": {},
   "source": [
    "Prompt 2:\n",
    ">cool, now extend the painting to include her full body "
   ]
  },
  {
   "cell_type": "markdown",
   "id": "deef094b-0817-4bff-93d6-620e8c9a4baf",
   "metadata": {},
   "source": [
    "Response: \n",
    ">Sure — before I generate it, can you describe how you’d like her **pose, setting, and clothing below the shoulders** to look? For example:\n",
    ">\n",
    "> + Is she standing or sitting?\n",
    "> + Should the background stay dark and simple, or include a scene (like a studio, window, etc.)?\n",
    "> + What kind of dress or continuation of the jacket should she wear?\n",
    "> \n",
    "> That’ll help me extend the painting in a cohesive, realistic way.\n"
   ]
  },
  {
   "cell_type": "markdown",
   "id": "9ad0616c-25c1-4665-a913-80dff443e150",
   "metadata": {},
   "source": [
    "Me: \n",
    "> she should just be standing. Leave the background the way it is. Have the jacket be the same and have a blue dress underneath. "
   ]
  },
  {
   "cell_type": "markdown",
   "id": "ff9d1956-4263-4e69-892e-bf6ec972f4d1",
   "metadata": {},
   "source": [
    "![](attempt2.png)"
   ]
  },
  {
   "cell_type": "markdown",
   "id": "ebb307a7-eaaa-4e76-a658-098396e5f833",
   "metadata": {},
   "source": [
    "#### Interesting...she looks much more childish now. The proportions of her arms to the length of the jacket and dress aren't quite right and something changed about the highlighting in her eye that modified the direction of her gaze. "
   ]
  },
  {
   "cell_type": "markdown",
   "id": "7e09fb9e-d23d-44d9-a036-e03cd569ed7a",
   "metadata": {},
   "source": [
    "Prompt 3:\n",
    "> Make her more proportional for an adult woman and have her look at the painter. "
   ]
  },
  {
   "cell_type": "markdown",
   "id": "7ad402fa-6796-416c-9ebc-8eea1cabf949",
   "metadata": {},
   "source": [
    "![](attempt3.png)"
   ]
  },
  {
   "cell_type": "markdown",
   "id": "4c5bff0c-a025-480b-b4d0-06105201c359",
   "metadata": {},
   "source": [
    "#### The head to body proportion may have actually gotten worse. The face does look more mature, but it is still modified from the first image. The browbone and cheekbones are more defined and the mouth is now closed. It has seemed to lose that innocent gaze that was present in the original. "
   ]
  },
  {
   "cell_type": "markdown",
   "id": "c0e98597-b06f-4236-8a4e-ed955bcbd8d8",
   "metadata": {},
   "source": [
    "## My Reflection"
   ]
  },
  {
   "cell_type": "markdown",
   "id": "9d7e5326-9652-4b96-99e5-127186fa7269",
   "metadata": {},
   "source": [
    "Although I was fairly impressed by Chat-GPT5's ability to recreate the original 'Girl with a Pearl Earring' painting solely on a description, it's ability to create something original is quite disappointing. The LLM doesn't seem to grasp anatomy all that well and it changes small, but instrumental, details without me prompting it to do so. Thorughout the process, it appears that the gaze and innocence of the girl was lost. Additionally, I thought that it was odd that Chat-GPT5 chose to crop the jacket at that length because normally they are longer. It was impressive, however, that the LLM was able to keep the integrity of the oil painting style. When asked to extend the painting, it felt fairly cohesive, but only for the style and painting strokes. "
   ]
  },
  {
   "cell_type": "code",
   "execution_count": null,
   "id": "df42c8fb-0f48-4ec5-b43b-317ce76f205b",
   "metadata": {},
   "outputs": [],
   "source": []
  }
 ],
 "metadata": {
  "kernelspec": {
   "display_name": "Python 3-12 (COMM4190)",
   "language": "python",
   "name": "python3-12_comm4190"
  },
  "language_info": {
   "codemirror_mode": {
    "name": "ipython",
    "version": 3
   },
   "file_extension": ".py",
   "mimetype": "text/x-python",
   "name": "python",
   "nbconvert_exporter": "python",
   "pygments_lexer": "ipython3",
   "version": "3.12.11"
  }
 },
 "nbformat": 4,
 "nbformat_minor": 5
}
