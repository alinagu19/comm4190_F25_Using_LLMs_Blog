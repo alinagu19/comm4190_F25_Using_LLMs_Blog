{
 "cells": [
  {
   "cell_type": "raw",
   "id": "2733a79a-850e-442e-879f-293d5294c3e7",
   "metadata": {},
   "source": [
    "---\n",
    "title: \"Testing LLMs on Personality Part 1: Can it provide a good description of someone given a personality type?\"\n",
    "description: \"For Part 1, I am going to see if an LLM can give an accurate description of myself after I give it my MBTI\" \n",
    "author: \"Alina\"\n",
    "date: \"9/15/2025\"\n",
    "categories:\n",
    "  - LLMs\n",
    "  - MBTI\n",
    "  - Personality Test\n",
    "---"
   ]
  },
  {
   "cell_type": "markdown",
   "id": "b4a94e81-b5a0-4af5-a551-0fce7384688a",
   "metadata": {},
   "source": [
    "## 2 Part Test\n",
    "##### Part 1. Can the LLM give an accurate description given a specific personality type?\n",
    "##### Part 2. Can the LLM predict the correct MBTI after feeding its descriptions back to itself?"
   ]
  },
  {
   "cell_type": "markdown",
   "id": "1f48f2b4-8640-4e95-8895-1df926c334b2",
   "metadata": {},
   "source": [
    "![](snoopy_moods.png)"
   ]
  },
  {
   "cell_type": "markdown",
   "id": "48baac43-29b1-4776-8db1-72c593efe182",
   "metadata": {},
   "source": [
    "## What is MBTI?"
   ]
  },
  {
   "cell_type": "markdown",
   "id": "93ade3e5-1067-4ac4-8d67-3972b398b97a",
   "metadata": {},
   "source": [
    "MBTI stands for Myers-Briggs Type Indicator. It consists of a questionnaire to categorize people into 16 different \"personality types\". \n",
    "\n",
    "### There are four key areas of focus:"
   ]
  },
  {
   "cell_type": "markdown",
   "id": "6947970d-4a4d-4c28-885b-31d8987a76c1",
   "metadata": {},
   "source": [
    "![](mbti.png)"
   ]
  },
  {
   "cell_type": "markdown",
   "id": "783579ed-f6ae-4cef-8adb-a26625b39fc1",
   "metadata": {},
   "source": [
    "There are 16 combinations total and those correspond to the 16 personality types, which are grouped into four larger divisions. \n",
    "\n",
    "##### Analysts\n",
    "\n",
    "Architect, Logician, Commander, Debater\n",
    "\n",
    "##### Diplomats\n",
    "\n",
    "Advocate, Mediator, Protagonist, Campaigner\n",
    "\n",
    "##### Sentinals\n",
    "\n",
    "Logistician, Defender, Executive, Consul\n",
    "\n",
    "##### Explorers\n",
    "\n",
    "Virtuoso, Adventurer, Entrepreneur, Entertainer\n"
   ]
  },
  {
   "cell_type": "markdown",
   "id": "fbea2df4-112b-462b-b744-72a52b1f6f71",
   "metadata": {},
   "source": [
    "## What is my MBTI and how will I prompt the LLM?"
   ]
  },
  {
   "cell_type": "markdown",
   "id": "792debf9-fa15-4081-90fa-28f31706aee3",
   "metadata": {},
   "source": [
    "My MBTI is ISTJ, which means that I am a 'Logistician\". \n",
    "\n",
    "#### Chat-GPT 5 Prompt:\n",
    ">Write a detailed description and outline traits of someone with an ISTJ MBTI. "
   ]
  },
  {
   "cell_type": "markdown",
   "id": "d25b7060-e2db-4ffc-b79e-ba6f372b6b58",
   "metadata": {},
   "source": [
    "## Response"
   ]
  },
  {
   "cell_type": "markdown",
   "id": "bcf72ded-44bb-4af5-b9de-8c9a20f7b9d6",
   "metadata": {},
   "source": [
    "\n",
    "**ISTJ Personality Overview**\n",
    "\n",
    "> Type Code: Introverted • Sensing • Thinking • Judging\n",
    "\n",
    "> Nickname: The Inspector / The Duty Fulfiller\n",
    "\n",
    "> Core Drive: Responsibility, reliability, and upholding commitments.\n",
    "\n",
    "> Dominant Function: Introverted Sensing (Si) → relies on memory, routines, and trusted methods.\n",
    "\n",
    "> Auxiliary Function: Extraverted Thinking (Te) → focuses on efficiency, logic, and practical systems.\n",
    "\n",
    "> ISTJs are known for being grounded, dependable, and meticulous. They often feel a strong sense of duty to follow through on promises, meet obligations, and maintain stability. They like order, clarity, and practicality in their world.\n",
    "\n",
    "**Key Traits of ISTJs**\n",
    "\n",
    "> Dependable & Responsible\n",
    "\n",
    "> Take obligations very seriously.\n",
    "\n",
    "> Known as people who can be counted on to deliver.\n",
    "\n",
    "> Detail-Oriented & Practical\n",
    "\n",
    "> Value concrete facts over abstract theories.\n",
    "\n",
    "> Notice small inconsistencies that others may miss.\n",
    "\n",
    "> Structured & Organized\n",
    "\n",
    "> Prefer planning ahead and sticking to schedules.\n",
    "\n",
    "> Thrive when rules, traditions, or systems are clearly defined.\n",
    "\n",
    "> Reserved but Steadfast\n",
    "\n",
    "> Introverted → private with emotions, not quick to open up.\n",
    "\n",
    "> Quietly dedicated rather than showy.\n",
    "\n",
    "> Logical & Objective\n",
    "\n",
    "> Make decisions based on facts and efficiency.\n",
    "\n",
    "> Less swayed by emotions unless they relate to their values/duty.\n",
    "\n",
    ">Traditional & Loyal\n",
    "\n",
    "> Respectful of rules, hierarchy, and established practices.\n",
    "\n",
    "> Value stability in relationships and careers.\n",
    "\n",
    "**Strengths**\n",
    "\n",
    "> Extremely reliable and trustworthy.\n",
    "\n",
    "> Excellent memory for details and past experiences.\n",
    "\n",
    "> Strong work ethic and perseverance.\n",
    "\n",
    "> Clear sense of duty and responsibility.\n",
    "\n",
    "> Loyal to people, institutions, and commitments.\n",
    "\n",
    "**Challenges**\n",
    "\n",
    "> Can be rigid or resistant to change.\n",
    "\n",
    "> May come across as too serious or unexpressive.\n",
    "\n",
    "> Struggle with abstract or highly theoretical ideas.\n",
    "\n",
    "> Sometimes prioritize duty over personal needs.\n",
    "\n",
    "> Risk being overly critical (of self and others).\n",
    "\n",
    "**Work Style**\n",
    "\n",
    "> Prefer clear expectations and step-by-step tasks.\n",
    "\n",
    "> Thrive in structured environments (law, finance, medicine, government, military, engineering, etc.).\n",
    "\n",
    "> Excel in roles requiring accuracy, consistency, and reliability.\n",
    "\n",
    "**Relationships**\n",
    "\n",
    "> Show love through dependability and practical actions, not always words.\n",
    "\n",
    "> Value long-term stability over spontaneity.\n",
    "\n",
    "> Loyal, steady, and protective of their commitments.\n",
    "\n",
    "**✨ In short: An ISTJ is the type of person who keeps the world running smoothly — grounded, diligent, and dependable, with a strong sense of tradition and order.**\n"
   ]
  },
  {
   "cell_type": "markdown",
   "id": "b07ebe70-5000-440d-a560-95aaa3310a18",
   "metadata": {},
   "source": [
    "## Reflection"
   ]
  },
  {
   "cell_type": "markdown",
   "id": "11366f9e-0300-471c-8fb4-0dcd77783b15",
   "metadata": {},
   "source": [
    "This part is more of a validation step for the next part as well as an investigation into how well LLMs understand the nuances of different persoality types beyond what is just directly stated. in terms of validity, I do see myself in a lot of these descriptions (it is my personality type after all). The ones that especially stood out to me were 'Challenges', 'Work Style', 'Relationships'. I think these were extremely on the nose. I think one thing in particular doesn't necessarily fit: \"Struggle with Abstract or Theoretical Ideas\", but I think for me, this is a skill that came with time. Additionally, it has been a while since I've gotten this result, so it is a possibility that I am no longer this \"personality\""
   ]
  },
  {
   "cell_type": "markdown",
   "id": "fdb21c69-a873-412a-b979-db80c1eaf257",
   "metadata": {},
   "source": [
    "## Extra Prompt (for fun)"
   ]
  },
  {
   "cell_type": "markdown",
   "id": "eab1335a-1d85-483c-8b0b-581e08857d88",
   "metadata": {},
   "source": [
    "**Prompt:**\n",
    "> Do you think that there are only 16 personalities?"
   ]
  },
  {
   "cell_type": "markdown",
   "id": "b1c5f210-959f-4e38-bad4-058005f57bd2",
   "metadata": {},
   "source": [
    "**ChatGPT 5 Response:**\n",
    "> Not really — the idea of there being only **16 personalities** comes from the **Myers-Briggs Type Indicator (MBTI)**, which categorizes people based on four binary traits (Introvert/Extrovert, Intuitive/Sensing, Thinking/Feeling, Judging/Perceiving).\n",
    "\n",
    "> That framework produces **16 combinations**, but:\n",
    "\n",
    "> * **Human personality is far more complex.**\n",
    "\n",
    "  > * Traits exist on spectrums, not binaries.\n",
    "  > * Two people of the “same type” can behave very differently depending on culture, upbringing, stress, etc.\n",
    "> * Other models (like the **Big Five**) treat personality as continuous dimensions (e.g., Openness, Conscientiousness, Extraversion, Agreeableness, Neuroticism), which allows for many more nuanced combinations.\n",
    "> * Neuroscience and psychology generally agree: personality is **dynamic**, not fixed — it shifts with age, experience, and context.\n",
    "\n",
    "> 👉 So while the “16 personalities” model can be a fun and sometimes useful shorthand, it’s definitely an **oversimplification** of human diversity.\n",
    "\n",
    "> Would you like me to compare **MBTI vs Big Five** to show how they approach personality differently?\n"
   ]
  },
  {
   "cell_type": "markdown",
   "id": "29338262-4460-497c-b4fb-515bd36877db",
   "metadata": {},
   "source": [
    "**My Thoughts:**\n",
    "I think it's interesting how ChatGPT 5 was able to answer a question seemingly looking for an opinion. Additionally, I am surprised that it gave the answer \"Not really\", because I was expecting it to deflect and give an answer in between two opinions, rather than leaning to one side. I am not sure how LLMs are programmed to act based on opinion-based questions, but I am intriguied that it took somewhat of a stance. I wonder how far its opinions will go?"
   ]
  },
  {
   "cell_type": "code",
   "execution_count": null,
   "id": "1fb6bf3d-cb86-4764-b0b1-8063e4bf4712",
   "metadata": {},
   "outputs": [],
   "source": []
  }
 ],
 "metadata": {
  "kernelspec": {
   "display_name": "Python 3-12 (COMM4190)",
   "language": "python",
   "name": "python3-12_comm4190"
  },
  "language_info": {
   "codemirror_mode": {
    "name": "ipython",
    "version": 3
   },
   "file_extension": ".py",
   "mimetype": "text/x-python",
   "name": "python",
   "nbconvert_exporter": "python",
   "pygments_lexer": "ipython3",
   "version": "3.12.11"
  }
 },
 "nbformat": 4,
 "nbformat_minor": 5
}
