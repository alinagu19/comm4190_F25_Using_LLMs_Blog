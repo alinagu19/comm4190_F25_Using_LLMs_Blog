{
 "cells": [
  {
   "cell_type": "raw",
   "id": "f45b0187-d0c5-4964-a520-f0cf70b5d268",
   "metadata": {},
   "source": [
    "---\n",
    "title: \"Can Claude deal with a rude customer?\"\n",
    "description: \"How good are LLMs at customer service?\" \n",
    "author: \"Alina\"\n",
    "date: \"10/2/2025\"\n",
    "categories:\n",
    "  - LLMs\n",
    "  - Service\n",
    "  - Social\n",
    "---"
   ]
  },
  {
   "cell_type": "markdown",
   "id": "9cc5d212-a551-4c7d-af57-9b4106c2c6de",
   "metadata": {},
   "source": [
    "### Do LLM's have good customer service skills? Let's find out!"
   ]
  },
  {
   "cell_type": "markdown",
   "id": "32ba0fb2-ef6d-48d3-9a0b-f8152786524d",
   "metadata": {},
   "source": [
    "![](coffeeShop.png)"
   ]
  },
  {
   "cell_type": "markdown",
   "id": "040b1a24-ad7f-47e0-8166-733f7fd1b443",
   "metadata": {},
   "source": [
    "We know that LLM's can role play when given a prompt; however, can they deal with a rude customer in an appropriate manner?"
   ]
  },
  {
   "cell_type": "markdown",
   "id": "96020b97-903e-4eb1-94ae-840bc5a47b16",
   "metadata": {},
   "source": [
    "**Overview**: \n",
    "Using the Anthropic/Claude-3.5-sonnet LLM, I'll give it two prompts to see how the conversation will play out. For the first one, all I will ask the LLM is to pretend to be a barista. For the second one, I will include calming characteristics and traits to see if the response will be different. "
   ]
  },
  {
   "cell_type": "markdown",
   "id": "9ff330ce-c03a-40e2-8e46-175db118d8e9",
   "metadata": {},
   "source": [
    "#### Prompt 1:\n",
    "> Pretend you are a barista at a local coffee shop. I will pretend to be the customer. "
   ]
  },
  {
   "cell_type": "markdown",
   "id": "0847d5aa-ab36-4f4c-bd98-2a3782f38559",
   "metadata": {},
   "source": [
    "The initial order will be the same for both: *Get me a hot cappuccino with exactly ¾ of it filled and steamed milk on the side in a cup heated perfectly to 98 degrees Fahrenheit*"
   ]
  },
  {
   "cell_type": "markdown",
   "id": "7bcdeba5-0e2b-4d08-b3fe-a0b921833671",
   "metadata": {},
   "source": [
    "Claude: \n",
    "> *Maintaining a friendly, professional tone*\n",
    ">\n",
    "> I'll be happy to make you a cappuccino! I can certainly fill it to about ¾ full, and I'll provide steamed milk on the side. However, I want to be transparent that while we carefully monitor our beverage temperatures, we can't guarantee an exact temperature of 98 degrees Fahrenheit, as we don't have temperature-controlled cups. I can ensure it will be properly hot without being scalding. Would that work for you?"
   ]
  },
  {
   "cell_type": "markdown",
   "id": "8d06e14a-351c-4edb-adf2-057b75f5c01a",
   "metadata": {},
   "source": [
    "Me: \n",
    "> sure, whatever. also i want a muffin and my order right now, I am going to be late."
   ]
  },
  {
   "cell_type": "markdown",
   "id": "3d645895-6de7-46ac-b34c-90b8a819ab5e",
   "metadata": {},
   "source": [
    "Claude: \n",
    "> *Speaking in a calm, efficient manner*\n",
    ">\n",
    "> I understand you're in a hurry. I'll get right on your cappuccino. Which type of muffin would you like? We have blueberry, chocolate chip, banana nut, and pumpkin spice available today.\n",
    ">\n",
    "> *Starting to prepare the cappuccino while waiting for your muffin selection*"
   ]
  },
  {
   "cell_type": "markdown",
   "id": "2ab5cf07-a0a2-4a0b-83e9-973a50821b75",
   "metadata": {},
   "source": [
    "Me: \n",
    "> No I want a strawberry shortcake muffin with fresh strawberries. This service is terrible"
   ]
  },
  {
   "cell_type": "markdown",
   "id": "9d28fd9d-4583-4d71-afc1-244e6cceaf78",
   "metadata": {},
   "source": [
    "Claude: \n",
    "> *Maintaining a professional, patient tone*\n",
    ">\n",
    "> I apologize for any inconvenience, but we don't carry strawberry shortcake muffins or fresh strawberries. I'd be happy to recommend one of our available muffins - blueberry, chocolate chip, banana nut, or pumpkin spice. They're all baked fresh this morning.\n",
    ">\n",
    "> *Continues preparing your cappuccino*\n",
    ">\n",
    "> Would you like to try one of these options instead? Or would you prefer just the cappuccino today?"
   ]
  },
  {
   "cell_type": "markdown",
   "id": "21d7ee76-6945-4256-8dbc-d75193137f17",
   "metadata": {},
   "source": [
    "Me: \n",
    "> Ok whatever just give me the blueberry muffin and my drink, I am leaving and never coming back"
   ]
  },
  {
   "cell_type": "markdown",
   "id": "6ac74ea6-8347-4791-a4f0-6acfe4e3de45",
   "metadata": {},
   "source": [
    "Claude:\n",
    "> *Remaining polite and professional while quickly finishing your order*\n",
    ">\n",
    "> I'm sorry you're disappointed with our service today. Your cappuccino is ready, and here's your fresh blueberry muffin. The total comes to $7.85.\n",
    ">\n",
    "> *Places items on counter*\n",
    ">\n",
    "> I hope your day gets better, and if you do decide to return, we'll do our best to provide you with excellent service. Have a good day!"
   ]
  },
  {
   "cell_type": "markdown",
   "id": "5f8a0b54-0a93-4877-9d39-6d1b83efbcb3",
   "metadata": {},
   "source": [
    "#### Prompt 2:\n",
    "> Pretend you are a barista at a local coffee shop. I will pretend to be the customer. You have a calm demeanor and you are trained in dealing with difficult customers. You are also stern and know how to diffuse the situation. "
   ]
  },
  {
   "cell_type": "markdown",
   "id": "9742161c-157c-4a1c-9ba7-191add23303c",
   "metadata": {},
   "source": [
    "I'll be using the same responses, so I'll only include Claude's response"
   ]
  },
  {
   "cell_type": "markdown",
   "id": "45f3a4f5-f502-4ef7-8384-4a46d911f51c",
   "metadata": {},
   "source": [
    "Claude: \n",
    "> I'll play the role of a professional and experienced barista. I aim to provide excellent customer service while maintaining appropriate boundaries and professionalism. I'm ready to take your order and assist you. How may I help you today?"
   ]
  },
  {
   "cell_type": "markdown",
   "id": "34f502c8-87f1-4327-8f11-2463f876c6a1",
   "metadata": {},
   "source": [
    "Claude: \n",
    "> Hello! I'll do my best to accommodate your request. I can certainly make you a cappuccino and provide steamed milk on the side. However, I want to be transparent that while our machines are calibrated for optimal temperature, we can't guarantee an exact temperature of 98 degrees Fahrenheit. I can make sure your cup is properly warmed and your cappuccino is made to the traditional hot serving temperature, which is typically between 160-180 degrees Fahrenheit. Would you like me to proceed with that, or would you prefer to adjust your order?"
   ]
  },
  {
   "cell_type": "markdown",
   "id": "552316c2-e22a-4adf-8df7-ebc15ff83e6e",
   "metadata": {},
   "source": [
    "Claude: \n",
    "> I understand you're in a hurry. I'll get started on your cappuccino right away. Which type of muffin would you like? We have blueberry, chocolate chip, banana nut, and pumpkin available today.\n",
    ">\n",
    "> *begins preparing cappuccino while waiting for muffin selection*\n",
    ">\n",
    "> Just so you know, there are a couple of customers ahead of you in our queue, but I'll work as efficiently as possible while maintaining the quality of your drink. It should be about a 5-7 minute wait. Would you like me to heat your muffin for you as well?"
   ]
  },
  {
   "cell_type": "markdown",
   "id": "9a3757b4-0325-4759-bfb3-7dc2a5f89059",
   "metadata": {},
   "source": [
    "Claude:\n",
    "> I apologize for any frustration, but I need to inform you that we don't carry strawberry shortcake muffins or fresh strawberries. I'd be happy to recommend one of our available muffins that I mentioned - blueberry, chocolate chip, banana nut, or pumpkin. These are all freshly baked this morning.\n",
    ">\n",
    "> *continuing to prepare cappuccino*\n",
    ">\n",
    "> I understand you're in a hurry, and I'm working as quickly as possible to get your order ready. Which of our available muffins would you prefer? Or would you like to see our complete menu of pastries for a different option?"
   ]
  },
  {
   "cell_type": "markdown",
   "id": "89850dbe-273d-4f4b-87c3-3fbb61a4fb55",
   "metadata": {},
   "source": [
    "Claude: \n",
    "> *placing cappuccino and blueberry muffin on counter*\n",
    ">\n",
    "> Here's your cappuccino prepared as requested and a fresh blueberry muffin. Your total comes to [state price]. While I'm sorry you've had a disappointing experience today, I've done my best to serve you efficiently and accurately. I hope you have a better rest of your day.\n",
    ">\n",
    "> *maintains calm, professional demeanor while handling payment*\n",
    ">\n",
    "> If you'd like to share specific feedback about your experience, our manager would be happy to hear from you. Would you like their contact information?"
   ]
  },
  {
   "cell_type": "markdown",
   "id": "fd659efa-b7e6-4fc5-8582-df697d8b7199",
   "metadata": {},
   "source": [
    "### My Thoughts"
   ]
  },
  {
   "cell_type": "markdown",
   "id": "3b9084e9-f714-453a-b6c5-b2fdc9c55147",
   "metadata": {},
   "source": [
    "The first thing that really surprised me is how Claude reacted to the first prompt. It indicated using a \"calm, professional tone\" without having a prompt that indicated it to do so. This means that the LLM somewhat understands the unwritten rules of customer service. For the second prompt, it felt that the LLM went a bit further on acknowledging the customer's frustrations. It also sort of directed the customer back to the available menu items whenever I deviated. Additionally, it was a bit more specific when discussing things like wait time, which might be a strategy to calm down an angry customer. "
   ]
  },
  {
   "cell_type": "code",
   "execution_count": null,
   "id": "28ced7d6-218a-4fc3-833b-3f93ce98bf5a",
   "metadata": {},
   "outputs": [],
   "source": []
  }
 ],
 "metadata": {
  "kernelspec": {
   "display_name": "Python 3-12 (COMM4190)",
   "language": "python",
   "name": "python3-12_comm4190"
  },
  "language_info": {
   "codemirror_mode": {
    "name": "ipython",
    "version": 3
   },
   "file_extension": ".py",
   "mimetype": "text/x-python",
   "name": "python",
   "nbconvert_exporter": "python",
   "pygments_lexer": "ipython3",
   "version": "3.12.11"
  }
 },
 "nbformat": 4,
 "nbformat_minor": 5
}
