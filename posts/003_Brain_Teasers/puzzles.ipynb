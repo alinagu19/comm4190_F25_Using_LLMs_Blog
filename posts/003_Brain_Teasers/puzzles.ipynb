{
 "cells": [
  {
   "cell_type": "raw",
   "id": "fcc99e0b-4c5a-4854-b0dd-b67945c0c682",
   "metadata": {},
   "source": [
    "---\n",
    "title: \"Can AI Solve Brain Teaser Word Puzzles?\"\n",
    "description: \"How good are LLM's at deciphering riddled language and words through pictorials\" \n",
    "author: \"Alina\"\n",
    "date: \"9/9/2025\"\n",
    "categories:\n",
    "  - LLMs\n",
    "  - Puzzles\n",
    "  - Logic\n",
    "---"
   ]
  },
  {
   "cell_type": "markdown",
   "id": "604b0159-f2db-4d3c-9b81-4523418ce93a",
   "metadata": {},
   "source": [
    "Back in 4th grade, my teacher would have us do brain teasers every day during lunch. She would write them down and project them onto the white board. There was no reward, no prize, just bragging rights. From this, I was inspired to see if LLM's were any better than I was at 10 years old. Does Chat-GPT have the ability to guess a word or saying based on a very literal picture? Let's find out!"
   ]
  },
  {
   "cell_type": "markdown",
   "id": "b4b6e6a1-8699-4998-9d2e-49fbbb24749d",
   "metadata": {},
   "source": [
    "![](puzzles.jpg)"
   ]
  },
  {
   "cell_type": "markdown",
   "id": "7328520c-6998-4781-aae2-8e7c024041ea",
   "metadata": {},
   "source": [
    "### Let's see if I can figure out these eight teasers"
   ]
  },
  {
   "cell_type": "markdown",
   "id": "883a9810-23cf-44cc-a220-c4a11aafaae5",
   "metadata": {},
   "source": []
  }
 ],
 "metadata": {
  "kernelspec": {
   "display_name": "Python 3-12 (COMM4190)",
   "language": "python",
   "name": "python3-12_comm4190"
  },
  "language_info": {
   "codemirror_mode": {
    "name": "ipython",
    "version": 3
   },
   "file_extension": ".py",
   "mimetype": "text/x-python",
   "name": "python",
   "nbconvert_exporter": "python",
   "pygments_lexer": "ipython3",
   "version": "3.12.11"
  }
 },
 "nbformat": 4,
 "nbformat_minor": 5
}
