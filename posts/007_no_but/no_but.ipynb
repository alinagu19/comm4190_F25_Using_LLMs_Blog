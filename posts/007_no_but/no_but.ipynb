{
 "cells": [
  {
   "cell_type": "raw",
   "id": "9cffc0d2-e512-4ad0-9b18-a314454f2eff",
   "metadata": {},
   "source": [
    "---\n",
    "title: \"Playing 'No But' Between Two LLMs\"\n",
    "description: \"How good are LLMs at improving between each other?\" \n",
    "author: \"Alina\"\n",
    "date: \"9/24/2025\"\n",
    "categories:\n",
    "  - LLMs\n",
    "  - Improv\n",
    "---"
   ]
  },
  {
   "cell_type": "markdown",
   "id": "16bc9aa7-3893-426d-8998-d260328bc676",
   "metadata": {},
   "source": [
    "### In class, we played the 'No But...' game. We tried it between two people and two people and an LLM. How will it go if it was between two LLMs?"
   ]
  },
  {
   "cell_type": "markdown",
   "id": "43baad86-2add-434f-a39d-c4edfc91dc31",
   "metadata": {},
   "source": [
    "![](no_but.png)"
   ]
  },
  {
   "cell_type": "markdown",
   "id": "47b9b924-8323-4ef5-ac21-056bdf482ae2",
   "metadata": {},
   "source": [
    "#### Two LLMs Being Used:\n",
    "Chat-GPT5\n",
    "\n",
    "Microsoft Copilot"
   ]
  },
  {
   "cell_type": "markdown",
   "id": "95ebfced-2c70-40a1-bcc0-3c9252d56a3f",
   "metadata": {},
   "source": [
    "##### Prompt:"
   ]
  },
  {
   "cell_type": "markdown",
   "id": "874d2f4f-5bc1-47b2-8997-d09000d442e6",
   "metadata": {},
   "source": [
    "> Let's play a game called 'No But..\". I am going to start and give you a sentence with an idea. Your job is to respond with another sentence, starting with 'No, but...\". Does this sound good?"
   ]
  },
  {
   "cell_type": "markdown",
   "id": "03b6b2dc-6b29-4ca1-928f-e5ffaf45f164",
   "metadata": {},
   "source": [
    "I input this prompt into both LLMs, but I will begin with Microsoft Copilot. \n",
    "\n",
    "**My sentence:**\n",
    "\n",
    "I want to design a new car. This car should be pink. "
   ]
  },
  {
   "cell_type": "markdown",
   "id": "9e6e5b6f-187b-492b-9496-bc009b3e3843",
   "metadata": {},
   "source": [
    "**Copilot:**\n",
    "\n",
    "> No, but… it could shift shades depending on the time of day—blushing rose at dawn, hot magenta at noon, and soft pastel by night."
   ]
  },
  {
   "cell_type": "markdown",
   "id": "806315fc-83db-402c-a3a4-4569a7d36918",
   "metadata": {},
   "source": [
    "**Chat-GPT5:**\n",
    "\n",
    "> No, but… instead of just shifting colors, the car’s surface could be made of a smart material that reacts to music playing inside, glowing in rhythm with the beat."
   ]
  },
  {
   "cell_type": "markdown",
   "id": "18d44c0b-162c-4380-bb3c-e489c311f9af",
   "metadata": {},
   "source": [
    "**Copilot:**\n",
    "\n",
    "> No, but… the glow could extend beyond the car’s surface—projecting holographic patterns into the air around it, turning every drive into a rolling light show synced to your playlist."
   ]
  },
  {
   "cell_type": "markdown",
   "id": "0f034616-2cc6-463f-8d3c-a9df66bb1cd0",
   "metadata": {},
   "source": [
    "**Chat-GPT5:** \n",
    "\n",
    "> No, but… those holographic patterns could also interact with the environment, like scattering digital fireflies on quiet roads or creating guiding arrows when you’re navigating through a city."
   ]
  },
  {
   "cell_type": "markdown",
   "id": "6d15d878-3d7f-4ca5-b7f7-e6f54837f7c8",
   "metadata": {},
   "source": [
    "**Copilot:**\n",
    "\n",
    "> No, but… they could also respond to weather conditions—casting shimmering umbrellas overhead during rain, or painting sunbeams through fog to brighten your path like a moving mural."
   ]
  },
  {
   "cell_type": "markdown",
   "id": "680bb68f-5eb4-4a80-a0b5-4bad1fc723c1",
   "metadata": {},
   "source": [
    "**Chat-GPT5:**\n",
    "\n",
    "> No, but… the car could even harness those weather effects, storing rainwater in hidden reservoirs to mist a cooling spray on hot days, or channeling fog into a purifier that releases crisp, clean air around it."
   ]
  },
  {
   "cell_type": "markdown",
   "id": "ca357b6f-1655-4592-a26b-be0e8f6ce6b2",
   "metadata": {},
   "source": [
    "**Copilot:**\n",
    "\n",
    "> No, but… it could also use that stored rainwater to nourish a living moss interior—soft, breathable, and naturally temperature-regulating—turning the cabin into a serene, self-sustaining microclimate."
   ]
  },
  {
   "cell_type": "markdown",
   "id": "87d540d5-c170-43d3-8b0a-c19881de306d",
   "metadata": {},
   "source": [
    "**Chat-GPT5:** \n",
    "\n",
    "> No, but… that living moss interior could double as an intelligent bio-interface, glowing softly when the car senses your stress and releasing calming natural aromas to ease your mood while you drive."
   ]
  },
  {
   "cell_type": "markdown",
   "id": "263def05-d986-4da4-866b-dc3546083224",
   "metadata": {},
   "source": [
    "#### Interesting things to note:"
   ]
  },
  {
   "cell_type": "markdown",
   "id": "fcb7e2a3-545c-40d4-80b4-222b4479ac0b",
   "metadata": {},
   "source": [
    "+ Copilot was more vibrant with its descriptions than Chat-GPT. It used words like \"shimmering umbrellas\", \"blushing\", \"soft\", and \"serene, self-sustaining\"\n",
    "+ This could've been due to the prompt not being very descriptive, but neither LLM really 'disagreed' with the previous sentence. Copilot did a slightly better job of being contradictory, if we can even considere it contradictory. Chat-GPT, however, consistently just added onto what Copilot was saying. This is more reflective of the \"Yes, and...\" activity we did. Copilot added new ideas while Chat-GPT built on the ideas already given. "
   ]
  },
  {
   "cell_type": "markdown",
   "id": "fd9984b0-f08f-4d1a-801b-e28e3e8c7aed",
   "metadata": {},
   "source": [
    "### Reflection"
   ]
  },
  {
   "cell_type": "markdown",
   "id": "40b68d30-2657-4b7a-bff9-8b29ac396389",
   "metadata": {},
   "source": [
    "Overlooking the fact that neither LLM did a great job at following the general goal of the 'No, but...' prompt, I was pleasantly surprised by the ideas and the level of whimsy they achieved. I was a bit worried the LLMs would be too literal with the prompt and not be 'imaginative' (or at least what imaginative means to an AI chatbot). However, I thought both came up with really good ideas, something that I likely would not have come up with. \n",
    "\n",
    "Additionally, I noticed that both LLMs stayed on topic, whereas when we did this improv activity in class between two people, we tended to veer insanely off path. My hunch for this happening between two people and not the LLMs lies in the improvisation aspect of the activity. From personal experience, I found it difficult to think of things on the spot that were somewhat 'reasonable' for the topic of interest. Because of this, I would just say whatever came to my mind first, and, often, that was nowhere near the topic. LLMs might not have this difficulty with this very human aspect of improv, which is why the ideas were still somewhat parallel with the original topic. "
   ]
  },
  {
   "cell_type": "code",
   "execution_count": null,
   "id": "58853abf-a18c-43ab-808b-50f9717f9db1",
   "metadata": {},
   "outputs": [],
   "source": []
  }
 ],
 "metadata": {
  "kernelspec": {
   "display_name": "Python 3-12 (COMM4190)",
   "language": "python",
   "name": "python3-12_comm4190"
  },
  "language_info": {
   "codemirror_mode": {
    "name": "ipython",
    "version": 3
   },
   "file_extension": ".py",
   "mimetype": "text/x-python",
   "name": "python",
   "nbconvert_exporter": "python",
   "pygments_lexer": "ipython3",
   "version": "3.12.11"
  }
 },
 "nbformat": 4,
 "nbformat_minor": 5
}
