{
 "cells": [
  {
   "cell_type": "raw",
   "id": "fcc99e0b-4c5a-4854-b0dd-b67945c0c682",
   "metadata": {},
   "source": [
    "---\n",
    "title: \"Can AI Solve Brain Teaser Word Puzzles?\"\n",
    "description: \"How good are LLM's at deciphering riddled language and words through pictorials\" \n",
    "author: \"Alina\"\n",
    "date: \"9/9/2025\"\n",
    "categories:\n",
    "  - LLMs\n",
    "  - Puzzles\n",
    "  - Logic\n",
    "---"
   ]
  },
  {
   "cell_type": "markdown",
   "id": "604b0159-f2db-4d3c-9b81-4523418ce93a",
   "metadata": {},
   "source": [
    "Back in 4th grade, my teacher would have us do brain teasers every day during lunch. She would write them down and project them onto the white board. There was no reward, no prize, just bragging rights. From this, I was inspired to see if LLM's were any better than I was at 10 years old. Does Chat-GPT have the ability to guess a word or saying based on a very literal picture? Let's find out!"
   ]
  },
  {
   "cell_type": "markdown",
   "id": "b4b6e6a1-8699-4998-9d2e-49fbbb24749d",
   "metadata": {},
   "source": [
    "![](puzzle.jpg)"
   ]
  },
  {
   "cell_type": "markdown",
   "id": "7328520c-6998-4781-aae2-8e7c024041ea",
   "metadata": {},
   "source": [
    "### Let's see if I can figure out these eight teasers"
   ]
  },
  {
   "cell_type": "markdown",
   "id": "883a9810-23cf-44cc-a220-c4a11aafaae5",
   "metadata": {},
   "source": [
    "1) Forget it (4 Get It)\n",
    "2) Blackjack?\n",
    "3) Somewhere over the rainbow\n",
    "4) Back door?\n",
    "5) Read between the lines\n",
    "6) Blood is thicker than water\n",
    "7) ???\n",
    "8) Cancelled check"
   ]
  },
  {
   "cell_type": "markdown",
   "id": "c1c8432e-9777-4454-8750-ed6d051b493e",
   "metadata": {},
   "source": [
    "The only one I missed was number 7, which was \"Beeline\". Out of eight, I missed one of them, which honestly isn't bad. Now let's see how Chat-GPT holds up. "
   ]
  },
  {
   "cell_type": "markdown",
   "id": "f7722bab-70e8-469f-a0e1-aa8746cfcb17",
   "metadata": {},
   "source": [
    "### I pasted the exact photo into Chat-GPT, what does it say?"
   ]
  },
  {
   "cell_type": "markdown",
   "id": "3cda87cb-696a-41d4-bc18-bce9e7d8c539",
   "metadata": {},
   "source": [
    "I added the prompt, \"Solve these brain teasers\""
   ]
  },
  {
   "cell_type": "markdown",
   "id": "73bdb328-82f4-400f-902b-0ac71006226d",
   "metadata": {},
   "source": [
    "#### Chat-GPT Response: \n",
    "\n",
    "Sure! Below are the solutions to the brain teasers based on visual and wordplay clues:\n",
    "\n",
    "1. \"Get it\" repeated 4 times\n",
    "\n",
    "    Answer: \"Forget it\"\n",
    "\n",
    "    (The word \"Get it\" is repeated four times, indicating the phrase \"Forget it\".)\n",
    "\n",
    "2. \"Jack\" in a black box\n",
    "\n",
    "\n",
    "    Answer: \"Jack in the box\"\n",
    "\n",
    "    (Literal interpretation of the phrase—a Jack in a box.)\n",
    "\n",
    "3. \"Somewhere\" above a rainbow\n",
    "\n",
    "    Answer: \"Somewhere over the rainbow\"\n",
    "\n",
    "    (Classic phrase and song lyric.)\n",
    "\n",
    "4. The word \"DOOR\" is reversed\n",
    "\n",
    "    Answer: \"Backdoor\"\n",
    "\n",
    "    (The reversed word implies a door going back or behind.)\n",
    "\n",
    "5. The word \"READ\" between two lines\n",
    "\n",
    "    Answer: \"Read between the lines\"\n",
    "\n",
    "    (A classic idiom, shown visually.)\n",
    "\n",
    "6. \"Blood\" over \"Water\"\n",
    "\n",
    "    Answer: \"Blood is thicker than water\"\n",
    "\n",
    "    (Common expression indicating family bonds are stronger.)\n",
    "\n",
    "7. The word \"Beeeeeee\" stretched out\n",
    "\n",
    "    Answer: \"Long time no see\"\n",
    "\n",
    "    (The extended \"Be\" indicates a long \"B\", a pun suggesting \"Long time no B(see)\".)\n",
    "\n",
    "8. The word \"CANCELLED\" falling down diagonally like stairs\n",
    "\n",
    "    Answer: \"Cancelled check\"\n",
    "\n",
    "    (The word is \"checked down\" or struck down stepwise—visual pun.)\n",
    "\n",
    "    Let me know if you want explanations for any specific ones!"
   ]
  },
  {
   "cell_type": "markdown",
   "id": "5064e18e-a1c8-40bd-a060-595481818462",
   "metadata": {},
   "source": [
    "### My analysis of the LLM performance"
   ]
  },
  {
   "cell_type": "markdown",
   "id": "8ae40ab7-daa2-4d2f-a989-09eb1912f291",
   "metadata": {},
   "source": [
    "Chat-GPT was incorrect on two of the eight riddles, which means...I WIN!"
   ]
  },
  {
   "cell_type": "markdown",
   "id": "787ec5cc-1917-4e6d-bdc1-33597c067c79",
   "metadata": {},
   "source": [
    "All that aside however, the LLM actually perfomed better than I originally thought. It's logic on most of the riddles was the exact same logic that I used. I originally believed it would be difficult for the LLM to decipher the words/saying behind the picture due to the necessary 'thinking outside the box' mindset behind brain teasers. Where it fell short was in the 2nd and 7th riddle. 'Jack in the Box' is also not completely wrong. I would've likely guessed that after my original guess. For the 7th image, I think the LLM was a bit further off. It attempted to use a pun to justify the answer, but it didn't make much sense. \n",
    "\n",
    "LLM Grade: 75%, C"
   ]
  },
  {
   "cell_type": "markdown",
   "id": "05348e71-87c8-4078-8bc0-ad9b85ee2d53",
   "metadata": {},
   "source": [
    "### Reflection"
   ]
  },
  {
   "cell_type": "markdown",
   "id": "e4ed18e9-a931-4800-84fc-1f0ac7e0c4af",
   "metadata": {},
   "source": [
    "The LLM's ability to pick up on the subtleties present is quite fascinating. More specificaly, it was able to recognize puns in a visual form and translate it into a common saying. I was genuinely quite impressed to see that the LLM was able to pick up the majority of the solutions and go about solving them the same way I did. The only one that it was completely wrong for was also one that I couldn't solve. Perhaps that is not necessarily a shortcoming on AI, but rather that the image itself was a more difficult riddle. "
   ]
  },
  {
   "cell_type": "code",
   "execution_count": null,
   "id": "172df792-652a-4583-935a-1b3783988ac2",
   "metadata": {},
   "outputs": [],
   "source": []
  }
 ],
 "metadata": {
  "kernelspec": {
   "display_name": "Python 3-12 (COMM4190)",
   "language": "python",
   "name": "python3-12_comm4190"
  },
  "language_info": {
   "codemirror_mode": {
    "name": "ipython",
    "version": 3
   },
   "file_extension": ".py",
   "mimetype": "text/x-python",
   "name": "python",
   "nbconvert_exporter": "python",
   "pygments_lexer": "ipython3",
   "version": "3.12.11"
  }
 },
 "nbformat": 4,
 "nbformat_minor": 5
}
