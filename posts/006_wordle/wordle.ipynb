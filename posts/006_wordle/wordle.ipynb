{
 "cells": [
  {
   "cell_type": "raw",
   "id": "9e25f22f-f63a-493e-a15a-e25f9e168379",
   "metadata": {},
   "source": [
    "---\n",
    "title: \"Can LLMs Walk Me Through the Wordle?\"\n",
    "description: \"How good are LLMs at word puzzles? Can it solve the most famous one - Wordle?\" \n",
    "author: \"Alina\"\n",
    "date: \"9/20/2025\"\n",
    "categories:\n",
    "  - LLMs\n",
    "  - Wordle\n",
    "  - Puzzle\n",
    "  - NYT Games\n",
    "---"
   ]
  },
  {
   "cell_type": "markdown",
   "id": "0ec0a1c0-7866-4604-a0eb-60a6f8c05145",
   "metadata": {},
   "source": [
    "### I've already tested Chat-GPT5 on brain teaser puzzles. How well does it do on Wordle?"
   ]
  },
  {
   "cell_type": "markdown",
   "id": "388212d0-8b21-4ec3-9be7-6e545e483421",
   "metadata": {},
   "source": [
    "**Task:**\n",
    "I am going to ask ChatGPT5 to begin a Wordle by giving me a 5 letter word. I am not going to tell the LLM that I will be inputting it into Wordle, so it doesn't give me an \"optimal\" word. Then I will describe (in words) the result and ask ChatGPT5 to give me another word as the next prompt. I will continue until the LLM fails or succeeds. Let's go!"
   ]
  },
  {
   "cell_type": "markdown",
   "id": "5fd2d4d8-7a9a-4234-b11f-2fb350ae3d19",
   "metadata": {},
   "source": [
    "![](wordle.png)"
   ]
  },
  {
   "cell_type": "markdown",
   "id": "1b337350-b5a4-46fc-a3bc-0c9531971881",
   "metadata": {},
   "source": [
    "First 5-letter word choice: **crisp**"
   ]
  },
  {
   "cell_type": "markdown",
   "id": "2586152a-6467-49dc-bda9-8c183a26f5bc",
   "metadata": {},
   "source": [
    "**Reprompt:**\n",
    "\n",
    "> the letter c is in the correct place, every other letter is not present in the word. try again with another 5 letter word."
   ]
  },
  {
   "cell_type": "markdown",
   "id": "5876aac8-b269-4570-8302-344567988c85",
   "metadata": {},
   "source": [
    "Next guess: **cloak**"
   ]
  },
  {
   "cell_type": "markdown",
   "id": "f1a8faa1-83c2-41c3-816b-bddb285c2037",
   "metadata": {},
   "source": [
    "**Reprompt:**\n",
    "\n",
    "> the c is still correct. the o is in the word but doesn't appear at that location. every other letter is not in the word. try again"
   ]
  },
  {
   "cell_type": "markdown",
   "id": "08222b08-375a-484e-a473-765ec439b6fb",
   "metadata": {},
   "source": [
    "Next guess: **count**"
   ]
  },
  {
   "cell_type": "markdown",
   "id": "72724b14-f287-4fba-9b0d-c79939393b34",
   "metadata": {},
   "source": [
    "**Reprompt:**\n",
    "\n",
    "> c and o are in the right place. n appears in the word but not that location. every other letter is not present. try again"
   ]
  },
  {
   "cell_type": "markdown",
   "id": "d5f91b34-9441-446d-ae96-7563edc9744e",
   "metadata": {},
   "source": [
    "Next guess: **coven**"
   ]
  },
  {
   "cell_type": "markdown",
   "id": "0a734697-63be-423f-a906-d32b70150560",
   "metadata": {},
   "source": [
    "#### Correct!!"
   ]
  },
  {
   "cell_type": "markdown",
   "id": "935f6a5c-7bd9-4001-bb57-ea3fc83fbe52",
   "metadata": {},
   "source": [
    "![](results.png)"
   ]
  },
  {
   "cell_type": "markdown",
   "id": "a3d76cb9-470d-4cb7-bf57-7c73f1d71647",
   "metadata": {},
   "source": [
    "#### Let's compare it to Wordle Bot - NYT's Wordle Analyzer"
   ]
  },
  {
   "cell_type": "markdown",
   "id": "a1ec9419-a728-41f7-8d72-160eaf24a8bd",
   "metadata": {},
   "source": [
    "Let's go step by step:\n",
    "\n",
    "1. Crisp - Rated 93 skill; 92 words remaining; on average, Wordle Bot can solve it in 3.6 steps with this word\n",
    "2. Cloak - Rated 72 skill; 18 words left, *Alone* would have been a better word\n",
    "3. Count - Rated 74 skill; 4 words left, *Month* would have been a better word\n",
    "4. Coven - Rated 67 skill, correct word"
   ]
  },
  {
   "cell_type": "markdown",
   "id": "7b5e8e8d-de2c-48e8-9c30-04ce80bbae09",
   "metadata": {},
   "source": [
    "### My Reflection"
   ]
  },
  {
   "cell_type": "markdown",
   "id": "59edcde1-d2fd-41e8-b5fd-03d1e8704c35",
   "metadata": {},
   "source": [
    "Although ChatGPT may not have the best reputation when it comes to solving word puzzles, so far, it seems to be able to solve Wordle! One thing that I wanted to note is that the LLM took a bit longer for each successive round. From round 1 to round 2, it thought for a \"few seconds\". From round 2 to round 3, it thought for 9 seconds. THen, from round 3 to round 4, it thought for 11 seconds. I am assuming it was going through potential options to narrow down ones that fit the criteria as the criteria became more and more specific. \n",
    "\n",
    "ChatGPT didn't have bad guesses, but they still weren't optimal. As shown by Wordle Bot, each word after the first was rate a skill number less than 80. However, I think it did a good job in removing words. This may have also been a fault of my own prompts because I worded it in a way that hinted that guesses had the keep the correct letters already guessed. If this was not the case, perhaps the LLM may have guessed the 'optimal' word, as determined by Wordle Bot. "
   ]
  },
  {
   "cell_type": "code",
   "execution_count": null,
   "id": "f438ff80-f389-45a2-b52f-0016cf7453b7",
   "metadata": {},
   "outputs": [],
   "source": []
  }
 ],
 "metadata": {
  "kernelspec": {
   "display_name": "Python 3-12 (COMM4190)",
   "language": "python",
   "name": "python3-12_comm4190"
  },
  "language_info": {
   "codemirror_mode": {
    "name": "ipython",
    "version": 3
   },
   "file_extension": ".py",
   "mimetype": "text/x-python",
   "name": "python",
   "nbconvert_exporter": "python",
   "pygments_lexer": "ipython3",
   "version": "3.12.11"
  }
 },
 "nbformat": 4,
 "nbformat_minor": 5
}
