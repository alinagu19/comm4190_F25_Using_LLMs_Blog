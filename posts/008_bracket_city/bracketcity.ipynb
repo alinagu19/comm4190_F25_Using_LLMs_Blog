{
 "cells": [
  {
   "cell_type": "raw",
   "id": "2ad38e2c-4b17-465b-b6ba-29003b162140",
   "metadata": {},
   "source": [
    "---\n",
    "title: \"Can Chat-GPT5 Help Me Solve Bracket City?\"\n",
    "description: \"How good is this LLM at a 'fill-in-the-blank' word puzzle?\" \n",
    "author: \"Alina\"\n",
    "date: \"9/27/2025\"\n",
    "categories:\n",
    "  - LLMs\n",
    "  - Bracket City\n",
    "  - Puzzle\n",
    "  - The Atlantic\n",
    "---"
   ]
  },
  {
   "cell_type": "markdown",
   "id": "8a00ad3e-e755-471b-b441-0fd8aa54f8fb",
   "metadata": {},
   "source": [
    "### I've tested Chat-GPT on other word puzzles, how does it do on this less well known clue-based word game?"
   ]
  },
  {
   "cell_type": "markdown",
   "id": "ea8a4a8c-6ab4-4595-9d11-a4770b41f774",
   "metadata": {},
   "source": [
    "##### What is the game?"
   ]
  },
  {
   "cell_type": "markdown",
   "id": "4ce5ac4f-4d40-4194-a0e2-201c63586ff5",
   "metadata": {},
   "source": [
    "**Bracket City** is a nested clue word puzzle game made by *The Atlantic*. You start with short phrases that act as clues to a word. Then that word helps you make sense of 'outer' phrases, which then hint at other clues. Essentially, you work your way out (hence the 'nested' part) until you solve the whole puzzle. Shout out Came"
   ]
  },
  {
   "cell_type": "markdown",
   "id": "f502bc9e-9a0a-40dc-9698-f677f02d47cd",
   "metadata": {},
   "source": [
    "![](brack.png)"
   ]
  },
  {
   "cell_type": "markdown",
   "id": "91714895-54db-4a1c-8591-19e9bab97eae",
   "metadata": {},
   "source": [
    "#### My Current Game - I need help 😭"
   ]
  },
  {
   "cell_type": "markdown",
   "id": "c87bb7cf-669d-4c9a-a963-36783592de75",
   "metadata": {},
   "source": [
    "![](game.png)"
   ]
  },
  {
   "cell_type": "markdown",
   "id": "e8750443-ee26-49e6-a4fc-5a6d80ef925c",
   "metadata": {},
   "source": [
    "#### Can Chat-GPT5 Help?"
   ]
  },
  {
   "cell_type": "markdown",
   "id": "cf9d96f2-3176-42a7-bf5d-d7d34131ba59",
   "metadata": {},
   "source": [
    "First, I am going to ask Chat-GPT about one of the simpler clues. I first informed the LLM of what game I was playing. Then, as the prompt, I just typed in:\n",
    "\n",
    "> age of certain tale-telling wives."
   ]
  },
  {
   "cell_type": "markdown",
   "id": "c9e9ff1d-eade-4fba-b759-7ff9891f3a7c",
   "metadata": {},
   "source": [
    "**Response**:\n",
    "\n",
    "> Step 1. Identify the reference:\n",
    "> \n",
    ">“tale-telling wives” → almost certainly refers to The Wife of Bath from The Canterbury Tales by Geoffrey Chaucer. She is one of the most famous “tale-telling wives.”\n",
    "> \n",
    ">Step 2. Look for the wordplay:\n",
    ">\n",
    ">Crossword-style clues usually have:\n",
    ">\n",
    ">A definition (here: “age”), and a wordplay part (here: “of certain tale-telling wives”). The “wives” bit suggests plural. The “age” might be something like “ERA.”\n",
    "> \n",
    ">Step 3. Put it together\n",
    ">\n",
    ">“Age” = ERA\n",
    ">\n",
    ">“Certain tale-telling wives” = wives from The Canterbury Tales → “WIFE OF BATH” (but plural doesn’t quite fit).\n",
    "> \n",
    ">But in wordplay terms:\n",
    "> \n",
    ">“Bath” is a city.\n",
    "> \n",
    ">“Age” can clue ERA.\n",
    "> \n",
    ">So “tale-telling wives” (Wife of Bath → Bath → ERA) → answer is ERA.\n",
    "> \n",
    ">✅ So the answer is likely ERA = “age.”\n",
    "The clue works because “tale-telling wives” hints at the Wife of Bath, whose home is Bath → “BATH” → “AGE” = “ERA.”"
   ]
  },
  {
   "cell_type": "markdown",
   "id": "37f5f4be-6613-4b58-91f1-a3515d835e01",
   "metadata": {},
   "source": [
    "So that's not right 😞 nor does it really make sense..."
   ]
  },
  {
   "cell_type": "markdown",
   "id": "107219d5-15ac-49f0-9414-98bf7f1e1cc5",
   "metadata": {},
   "source": [
    "After thinking some more, I got the right answer. **old**"
   ]
  },
  {
   "cell_type": "markdown",
   "id": "8ece471f-f8fe-4677-b15d-e7d4400643a3",
   "metadata": {},
   "source": [
    "#### After a few more clues solved, I got stuck here:"
   ]
  },
  {
   "cell_type": "markdown",
   "id": "102d86b7-9287-4aba-a99e-f6bf4b7c13a8",
   "metadata": {},
   "source": [
    "![](game2.png)"
   ]
  },
  {
   "cell_type": "markdown",
   "id": "9d6bb5ae-1cff-47da-bf3c-b8de495d1ed4",
   "metadata": {},
   "source": [
    "Chat-GPT prompt:\n",
    "\n",
    "> embodiment of the establishment"
   ]
  },
  {
   "cell_type": "markdown",
   "id": "2fed6484-53fc-426a-99b4-45f871f74890",
   "metadata": {},
   "source": [
    "**Response:**\n",
    "\n",
    ">Nice clue — here are the best short answers and why they fit:\n",
    ">\n",
    "> + status quo — (my top pick) literally means the existing state of affairs; calling someone the “embodiment of the establishment” often points to a person or thing that represents the status quo.\n",
    ">\n",
    "> + establishment — a more literal, single-word option: the institution or ruling class itself; can be used figuratively to mean an embodiment.\n",
    ">\n",
    "> + pillar of society — a common phrase for a respected person who embodies establishment values.\n",
    ">\n",
    "> + establishmentarian — a rarer, longer noun meaning someone who supports the establishment (works as a direct “embodiment” answer if length isn’t constrained)."
   ]
  },
  {
   "cell_type": "markdown",
   "id": "ddd3e0e9-28cb-466e-ab1b-4747f589f3e5",
   "metadata": {},
   "source": [
    "Again, these answers don't really make sense..."
   ]
  },
  {
   "cell_type": "markdown",
   "id": "c27619ee-ba14-4611-9d3d-266758d57032",
   "metadata": {},
   "source": [
    "#### I ended up using two hints, but I solved it! (not with the help of Chat-GPT though 😕)"
   ]
  },
  {
   "cell_type": "markdown",
   "id": "a9d13f7b-c511-4d12-8238-33b7b1be62a6",
   "metadata": {},
   "source": [
    "![](result.png)"
   ]
  },
  {
   "cell_type": "markdown",
   "id": "4259dd3d-eba7-4154-83a9-46113008ccdd",
   "metadata": {},
   "source": [
    "## My Verdict"
   ]
  },
  {
   "cell_type": "markdown",
   "id": "341adbe7-75fd-4bdf-a798-d7bcc01f7b0c",
   "metadata": {},
   "source": [
    "Chat-GPT5 is ... (drum-roll please) terrible at Bracket City!\n",
    "\n",
    "After inputting two clues into the LLM, it unfortunately was not able to get either one. For the first clue about tale-telling wives, Chat-GPT5 dissected the clue a bit too far in my opinion, taking into account hyper-specific references that weren't at all related to the eventual answer. Additionally, for the second clue, it also did not give good options. I wanted to point out one of the bullet points being a word that was literally in clue, meaning that it couldn't be the answer.\n",
    "\n",
    "I think in general, Chat-GPT5 gives Bracket City answers that are incredibly overcomplicated. Perhaps it overanalyzes the clues, overlooking the general simplicity and accessibility of the game. "
   ]
  },
  {
   "cell_type": "code",
   "execution_count": null,
   "id": "77399f5d-e7dd-4f43-980c-ab07c72618a1",
   "metadata": {},
   "outputs": [],
   "source": []
  }
 ],
 "metadata": {
  "kernelspec": {
   "display_name": "Python 3-12 (COMM4190)",
   "language": "python",
   "name": "python3-12_comm4190"
  },
  "language_info": {
   "codemirror_mode": {
    "name": "ipython",
    "version": 3
   },
   "file_extension": ".py",
   "mimetype": "text/x-python",
   "name": "python",
   "nbconvert_exporter": "python",
   "pygments_lexer": "ipython3",
   "version": "3.12.11"
  }
 },
 "nbformat": 4,
 "nbformat_minor": 5
}
