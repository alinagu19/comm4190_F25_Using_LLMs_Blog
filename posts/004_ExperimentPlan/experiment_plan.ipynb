{
 "cells": [
  {
   "cell_type": "raw",
   "id": "69adf5db-6c37-4f91-bbea-245a121ba6d1",
   "metadata": {},
   "source": [
    "---\n",
    "title: \"Can LLM's Plan My Science Experiment?\"\n",
    "description: \"Given preliminary data, research goals, and questions, can AI plan a whole experiment for me?\" \n",
    "author: \"Alina\"\n",
    "date: \"9/12/2025\"\n",
    "categories:\n",
    "  - LLMs\n",
    "  - Science\n",
    "  - Logic\n",
    "  - Planning\n",
    "---"
   ]
  },
  {
   "cell_type": "markdown",
   "id": "cf91ad3d-18f2-4deb-b0bb-f437ddbc0dfe",
   "metadata": {},
   "source": [
    "Designing experiments in the lab takes a lot of effort and critical thinking. Additionally, you have to think of the feasibility and cost of such tasks. In my opinion, I find it difficult to be incredibly thorough why my experimental controls. For those that may not be as familiar with science experiments, controls are conditions that are kept constant. In essence, they act as benchmarks to compare the results of the experiment to. They help determine whether or not a change was significant or not. They help scientists determine if the changes in results are truly due to the factor being tested and not an external element. "
   ]
  },
  {
   "cell_type": "markdown",
   "id": "bf368541-af97-49f9-8987-35cf0cb91c99",
   "metadata": {},
   "source": [
    "### What will I give Chat-GPT?"
   ]
  },
  {
   "cell_type": "markdown",
   "id": "cd3601ff-c762-4f12-b738-ae6391bdd3c1",
   "metadata": {},
   "source": [
    "I currently just finished a proposal for my independent study. I am going to upload the 'Background' and 'Project Goals' and see if an LLM can design a strong experiment. "
   ]
  },
  {
   "cell_type": "markdown",
   "id": "558fe47d-81cf-4673-89f2-d1a6e6845dbc",
   "metadata": {},
   "source": [
    "Prompt: Design a feasible and cost-effective experiment. \n",
    "\n",
    "*Disclaimer: I won't upload my 'Background' to this blog post because it is quite a few pages, but here is the 'Project Goals'\n",
    "\n",
    "Specific Aims of Project:\n",
    "\n",
    "-Investigate whether EBV promotes the development of the age-associated B cell (ABC) phenotype and inflammation in memory B cells via CD21 receptor internalization. \n",
    "\n",
    "-Use gene editing, specifically CRISPR-Cas9, to knock out CD21, CXCR3, and CXCR4 in Mun-14 (an EBV+ B cell line that was adapted for increased neuroinvasion)16 and spontaneous lymphoblastoid cell lines (SLCLs) to interrogate their roles in EBV-mediated inflammation and neuroinvasion.\n",
    "\n",
    "-Examine neuroinvasion in vivo using mouse models to track the distribution and localization of cells following receptor gene knockout\n",
    "\n",
    "-Assess changes in inflammasome pathway gene expression following deletion of CD21, CXCR3, and/or CXCR4 in SLCLs derived from both active MS patients and healthy controls (also including unstimulated vs. stimulated). \n",
    "\n",
    "-Determine whether CD21, CXCR3, and CXCR4 function independently from each other or interact in common inflammatory and pro-migratory pathways. \n"
   ]
  },
  {
   "cell_type": "markdown",
   "id": "fa52e13a-3965-4841-baf2-8289d5ffd66c",
   "metadata": {},
   "source": [
    "### LLM Response"
   ]
  },
  {
   "cell_type": "markdown",
   "id": "3ebf72eb-51b0-4549-bbbd-51fbf1fb4800",
   "metadata": {},
   "source": [
    "🧪 Title:\n",
    "Investigating the Role of CD21, CXCR3, and CXCR4 in EBV-mediated Inflammation and Neuroinvasion in B Cells"
   ]
  },
  {
   "cell_type": "markdown",
   "id": "4d20566e-248a-4f24-9561-bfd70a4ef7ad",
   "metadata": {},
   "source": [
    "🔍 Overview and Rationale:\n",
    "Given the association between EBV-infected B cells and multiple sclerosis, and the surface markers (CD21, CXCR3, CXCR4) implicated in inflammatory signaling and neuroinvasion, this experiment will:\n",
    "Use in vitro and in vivo models to determine how knockout of these genes influences inflammatory behavior and neuroinvasive potential of EBV+ B cell lines."
   ]
  },
  {
   "cell_type": "markdown",
   "id": "61a8195d-91a7-41ca-af3a-99239bcaeecb",
   "metadata": {},
   "source": [
    "![](exp_design.png)"
   ]
  },
  {
   "cell_type": "markdown",
   "id": "aecc3086-9a81-4abf-9563-c32204bf4a68",
   "metadata": {},
   "source": [
    "🔧 Methods / Techniques:\n",
    "1. Gene Editing – CRISPR-Cas9 Knockouts\n",
    "Cells: SLCLs from MS patients and controls + Mun-14 line\n",
    "Tool: Lentiviral CRISPR-Cas9 delivery system targeting CD21, CXCR3, and CXCR4\n",
    "Verification: qPCR and flow cytometry for gene and protein knockout\n",
    "🔹 Controls:\n",
    "Non-targeting sgRNA control (negative)\n",
    "GAPDH or housekeeping gene control for RT-qPCR normalization\n",
    "Positive control: known cytokine or inflammasome activator (e.g., LPS + ATP)\n",
    "2. Inflammatory Marker Expression (in vitro)\n",
    "Stimulate cells with EBV antigens or LPS\n",
    "Measure:\n",
    "NLRP3, IL-1β, IL-18, Caspase-1 (by qRT-PCR, ELISA, Western blot)\n",
    "Profile cytokine secretion (multiplex assay or ELISA: IFN-γ, IL-6, TNF-α)\n",
    "3. Neuroinvasion Assay (in vivo & in vitro)\n",
    "🔹 In vivo:\n",
    "Mouse model: Immunodeficient (NSG) mice or humanized mice\n",
    "Inject knockout and control SLCLs (labeled with reporter gene, e.g., luciferase or GFP)\n",
    "Track migration/localization to CNS via bioluminescence imaging or IHC on brain sections\n",
    "🔹 In vitro:\n",
    "Use Transwell/Blood-Brain Barrier (BBB) assays:\n",
    "Human BBB model (co-culture of endothelial cells on upper insert and astrocytes/microglia below)\n",
    "Track migration of gene-edited SLCLs or Mun-14 cells across membrane\n",
    "4. Cell Surface Marker Analysis / Immunophenotyping\n",
    "Flow cytometry for:\n",
    "ABC phenotype: CD11c+, T-bet+, CXCR3+, CD21low\n",
    "Inflammatory B cell profiles"
   ]
  },
  {
   "cell_type": "markdown",
   "id": "6c447170-3033-482c-9564-ffdcb4ca5eb2",
   "metadata": {},
   "source": [
    "![](cost.png)"
   ]
  },
  {
   "cell_type": "markdown",
   "id": "44e0f01d-3445-4bee-be6b-02e42532e806",
   "metadata": {},
   "source": [
    "📊 Data Analysis Plan:\n",
    "\n",
    "qPCR/ELISA stats: ANOVA with post-hoc Tukey test\n",
    "\n",
    "Flow cytometry: Compare mean fluorescence intensity (MFI) and percent positive\n",
    "\n",
    "Neuroinvasion assays: Bioluminescence (IVIS) or fluorescence quantification, paired t-tests or two-way ANOVA\n",
    "\n",
    "Gene interaction/synergy: Use combinatorial KO data to assess additive or synergistic effects on inflammation and migration"
   ]
  },
  {
   "cell_type": "markdown",
   "id": "735d1757-b41e-4166-b69e-86e978677183",
   "metadata": {},
   "source": [
    "📌 Expected Results / Outcomes:\n",
    "\n",
    "KO of CD21, CXCR3, or CXCR4 individually will reduce inflammatory cytokine production and possibly reduce migration in vitro/in vivo.\n",
    "\n",
    "Combined KO likely yields greater reduction in MS-like inflammatory markers and neuroinvasion.\n",
    "\n",
    "MS patient-derived SLCLs may respond differently than healthy-derived SLCLs — possibly higher baseline inflammation and greater response to knockout."
   ]
  },
  {
   "cell_type": "markdown",
   "id": "707a60f9-223c-4dce-8b67-463bfadcd77a",
   "metadata": {},
   "source": [
    "### My Thoughts"
   ]
  },
  {
   "cell_type": "markdown",
   "id": "adf6cd04-fb12-410d-8932-8b130dafd091",
   "metadata": {},
   "source": [
    "In terms of controls, Chat-GPT was able to identify most of what was needed. It was really interesting to see that the LLM recommend the same mouse breed that my lab actually does use in our research, mainly because there are tons of research mouse breeds used and it was able to guess the correct one. One thing that I wasn't familiar with was the Transwell/Blood-Brain Barrier Assay. That was something we hadn't even thought of because we have an established animal facility and can easily have access to animal studies. However, if we didn't, this would be a good model to see the initial feasibility of neuroinvasion. Everything else seems very similar to the actual plan of my project!\n",
    "\n",
    "Overall, given the correct background and initial questions, I think LLMs are capable to delivering a preliminary proposal. This is incredibly beneficial because it is difficult to create a complete and thorough experiment from the bottom up. This provides a solid foundation to build off of. I did want to add that there are some gaps in the process here, and something that the LLM doesn't take into account is the capabilities and availabilities of the lab itself. Not every lab has access to flow cytometry, for example. "
   ]
  },
  {
   "cell_type": "code",
   "execution_count": null,
   "id": "4b468a12-01e2-4d06-9ec6-22e12750db16",
   "metadata": {},
   "outputs": [],
   "source": []
  }
 ],
 "metadata": {
  "kernelspec": {
   "display_name": "Python 3-12 (COMM4190)",
   "language": "python",
   "name": "python3-12_comm4190"
  },
  "language_info": {
   "codemirror_mode": {
    "name": "ipython",
    "version": 3
   },
   "file_extension": ".py",
   "mimetype": "text/x-python",
   "name": "python",
   "nbconvert_exporter": "python",
   "pygments_lexer": "ipython3",
   "version": "3.12.11"
  }
 },
 "nbformat": 4,
 "nbformat_minor": 5
}
