{
 "cells": [
  {
   "cell_type": "raw",
   "id": "69adf5db-6c37-4f91-bbea-245a121ba6d1",
   "metadata": {},
   "source": [
    "---\n",
    "title: \"Can LLM's Plan My Science Experiment?\"\n",
    "description: \"Given preliminary data, research goals, and questions, can AI plan a whole experiment for me?\" \n",
    "author: \"Alina\"\n",
    "date: \"9/12/2025\"\n",
    "categories:\n",
    "  - LLMs\n",
    "  - Science\n",
    "  - Logic\n",
    "  - Planning\n",
    "---"
   ]
  },
  {
   "cell_type": "code",
   "execution_count": null,
   "id": "672afe1b-989d-4c19-b17b-ecd606848d51",
   "metadata": {},
   "outputs": [],
   "source": []
  }
 ],
 "metadata": {
  "kernelspec": {
   "display_name": "Python 3-12 (COMM4190)",
   "language": "python",
   "name": "python3-12_comm4190"
  },
  "language_info": {
   "codemirror_mode": {
    "name": "ipython",
    "version": 3
   },
   "file_extension": ".py",
   "mimetype": "text/x-python",
   "name": "python",
   "nbconvert_exporter": "python",
   "pygments_lexer": "ipython3",
   "version": "3.12.11"
  }
 },
 "nbformat": 4,
 "nbformat_minor": 5
}
