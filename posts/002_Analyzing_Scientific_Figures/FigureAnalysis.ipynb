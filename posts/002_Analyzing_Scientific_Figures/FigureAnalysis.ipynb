{
 "cells": [
  {
   "cell_type": "raw",
   "id": "9962d1bd-a1a4-4075-b9f1-915b440b1fb8",
   "metadata": {},
   "source": [
    "---\n",
    "title: \"AI Analyzing and Explaining Scientific Figures\"\n",
    "description: \"Sometimes I don't understand figures in science papers, what are AI explanations?\" \n",
    "author: \"Alina\"\n",
    "date: \"9/3/2025\"\n",
    "categories:\n",
    "  - LLMs\n",
    "  - Science\n",
    "  - Analysis\n",
    "---"
   ]
  },
  {
   "cell_type": "markdown",
   "id": "9e096523-fc82-4423-bf49-0ce6ae96a34b",
   "metadata": {},
   "source": [
    "# Chat-GPT Analysis of Figures"
   ]
  },
  {
   "cell_type": "markdown",
   "id": "2e497137-1109-4f5e-8ba4-72cd4d785ff6",
   "metadata": {},
   "source": [
    "![](science.jpg)"
   ]
  },
  {
   "cell_type": "markdown",
   "id": "f9d16137-cf35-49ee-bf81-713a12fe8dc7",
   "metadata": {},
   "source": [
    "## Scientific figures in papers can sometimes be quite difficult to understand"
   ]
  },
  {
   "cell_type": "markdown",
   "id": "1ec73daa-3075-4f16-be06-6a997fcad480",
   "metadata": {},
   "source": [
    "As a part of my major (Biochemistry) class, we have to do a weekly discussion post summarizing a scientific article of our choice related. However, we all do research in different topics and it can be challenging to interpret figures and results, especially when I am not familiar with the techniques or molecules (proteins, genes, inhibitors, etc.) being used/mentioned. "
   ]
  },
  {
   "cell_type": "markdown",
   "id": "a3561626-c866-41c7-b301-ca65b418d121",
   "metadata": {},
   "source": [
    "## Asking Chat-GPT to analyze the figure"
   ]
  },
  {
   "cell_type": "markdown",
   "id": "fadea6f0-f92f-4fcb-b7ef-d620fe884565",
   "metadata": {},
   "source": [
    "![](figure.png)"
   ]
  },
  {
   "cell_type": "markdown",
   "id": "5d9ca1a9-b7d4-4591-bd24-c467fe03961d",
   "metadata": {},
   "source": [
    "### Without a prompt"
   ]
  },
  {
   "cell_type": "markdown",
   "id": "66cd771a-a0d1-4430-9b69-d49b3d2c1fc6",
   "metadata": {},
   "source": [
    "Got it — this is an EMSA (Electrophoretic Mobility Shift Assay) figure (Fig. 4B). Let’s break it down step by step:\n",
    "\n",
    "🔎 What’s in the figure?\n",
    "\n",
    "Lane setup (grid above the gel):\n",
    "\n",
    "Probe = DNA probe (labeled).\n",
    "\n",
    "Nuc. Extract = nuclear extract (contains transcription factors).\n",
    "\n",
    "IFN-γ = cytokine used to stimulate STAT1 signaling.\n",
    "\n",
    "Ruxolitinib = JAK inhibitor (at 50 nM, 250 nM, 500 nM).\n",
    "\n",
    "IgG = nonspecific antibody control.\n",
    "\n",
    "Anti-pSTAT1 = supershift antibody to confirm STAT1 binding.\n",
    "\n",
    "Gel bands (bottom image):\n",
    "\n",
    "Shows DNA-protein complexes.\n",
    "\n",
    "Red circles highlight the shifted bands (pSTAT1 bound to DNA probe).\n",
    "\n",
    "When anti-pSTAT1 antibody is added, the complex is shifted even higher → confirming specificity of STAT1-DNA binding.\n",
    "\n",
    "Ruxolitinib treatment reduces the band intensity, showing inhibition of STAT1 activation.\n",
    "\n",
    "🧾 Interpretation\n",
    "\n",
    "Without IFN-γ: no strong STAT1 binding.\n",
    "\n",
    "With IFN-γ: a clear shifted band (activated STAT1 binding DNA).\n",
    "\n",
    "With increasing Ruxolitinib: reduced band intensity (dose-dependent inhibition of STAT1).\n",
    "\n",
    "With Anti-pSTAT1 antibody: supershifted band → proves that STAT1 is indeed binding to the probe.\n",
    "\n",
    "IgG control: no shift, confirming specificity.\n",
    "\n",
    "📌 In summary\n",
    "\n",
    "This figure shows that IFN-γ activates STAT1 binding to DNA, and Ruxolitinib dose-dependently blocks this binding. The supershift with anti-pSTAT1 antibody confirms that the DNA-binding protein is phosphorylated STAT1."
   ]
  },
  {
   "cell_type": "markdown",
   "id": "009e8022-b58b-46d8-8660-380b42c41ffc",
   "metadata": {},
   "source": [
    "### With the prompt: Analyze this figure"
   ]
  },
  {
   "cell_type": "markdown",
   "id": "6bb42d68-a410-41dc-b0b0-5abe7ac3c9d6",
   "metadata": {},
   "source": [
    "Perfect — let’s do a detailed analysis of this Fig. 4B EMSA:\n",
    "\n",
    "1. What the experiment tests\n",
    "\n",
    "This is an Electrophoretic Mobility Shift Assay (EMSA) using nuclear extracts from CCD841 cells.\n",
    "\n",
    "The goal is to see whether STAT1 (activated by IFN-γ) binds to a DNA probe and whether this is affected by the JAK inhibitor Ruxolitinib.\n",
    "\n",
    "Antibodies (IgG or anti-pSTAT1) are included to test specificity of the protein–DNA interaction.\n",
    "\n",
    "2. Lane breakdown (based on the grid above the gel)\n",
    "\n",
    "Probe only: no band shift → probe runs at baseline.\n",
    "\n",
    "Probe + Nuclear extract: weak/absent shift unless IFN-γ is present.\n",
    "\n",
    "+ IFN-γ: strong shifted band appears → consistent with STAT1 activation.\n",
    "\n",
    "+ Ruxolitinib (50, 250, 500 nM): progressive loss of the shifted band, showing dose-dependent inhibition of STAT1 DNA binding.\n",
    "\n",
    "+ IgG: no change (control for nonspecific antibody).\n",
    "\n",
    "+ Anti-pSTAT1: band supershifts upward → confirms that phosphorylated STAT1 is the DNA-binding protein.\n",
    "\n",
    "3. What the bands mean\n",
    "\n",
    "The red circles highlight the DNA–protein complexes (STAT1 bound to probe).\n",
    "\n",
    "When Ruxolitinib concentration increases, the band intensity decreases → JAK–STAT signaling is inhibited.\n",
    "\n",
    "The supershift with anti-pSTAT1 is the definitive proof that the protein binding the probe is STAT1.\n",
    "\n",
    "4. Overall interpretation\n",
    "\n",
    "This figure demonstrates that:\n",
    "\n",
    "IFN-γ activates STAT1 binding to DNA in CCD841 cells.\n",
    "\n",
    "Ruxolitinib inhibits this activation in a dose-dependent manner.\n",
    "\n",
    "The binding is specific to phosphorylated STAT1, confirmed by the supershift with anti-pSTAT1 antibody."
   ]
  },
  {
   "cell_type": "markdown",
   "id": "a6d2d4de-07a1-4972-bdc6-874feee2ef4b",
   "metadata": {},
   "source": [
    "### My Comments"
   ]
  },
  {
   "cell_type": "markdown",
   "id": "a5f3f609-06f2-40f5-8561-26aefafd5e8c",
   "metadata": {},
   "source": [
    "Something that immediately stands out is that without the prompt. Chat-GPT starts with a very general description of the figure, outlining each individual part and clarifying the experimental groups. Both versions give descriptions of the bands; however, the one with the prompt is much more detailed and it explains the logic more clearly. Both give fairly sound interpretations, but the answer given from the prompt contextualizes the results moreso than the answer without the prompt. \n",
    "\n",
    "Chat-GPT is surprisingly able to extract a lot of data and reasoning within scientific figures. I personally find interpreting blot data, especially ones with so many experimental condiitons, quite challenging because most of the time, they are different forms of controls. But, Chat-GPT is a really good tool to help understand them."
   ]
  },
  {
   "cell_type": "code",
   "execution_count": null,
   "id": "1aa6095a-ccbe-4344-a088-7a14667b2c52",
   "metadata": {},
   "outputs": [],
   "source": []
  }
 ],
 "metadata": {
  "kernelspec": {
   "display_name": "Python 3-12 (COMM4190)",
   "language": "python",
   "name": "python3-12_comm4190"
  },
  "language_info": {
   "codemirror_mode": {
    "name": "ipython",
    "version": 3
   },
   "file_extension": ".py",
   "mimetype": "text/x-python",
   "name": "python",
   "nbconvert_exporter": "python",
   "pygments_lexer": "ipython3",
   "version": "3.12.11"
  }
 },
 "nbformat": 4,
 "nbformat_minor": 5
}
