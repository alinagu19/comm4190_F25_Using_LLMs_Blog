{
 "cells": [
  {
   "cell_type": "raw",
   "id": "18825b82-7c67-48fb-b024-56982fcbe7df",
   "metadata": {},
   "source": [
    "---\n",
    "title: \"Alina's Test\"\n",
    "description: \"Testing Blogging\" \n",
    "author: \"Alina\"\n",
    "date: \"9/3/2025\"\n",
    "categories:\n",
    "  - LLMs\n",
    "  - Learning\n",
    "---"
   ]
  },
  {
   "cell_type": "markdown",
   "id": "f2a1dc71-3464-4392-bac4-bdf418cfc2a7",
   "metadata": {},
   "source": [
    "testing testing"
   ]
  },
  {
   "cell_type": "markdown",
   "id": "1e09a36a-aa0a-48ea-aff2-c97b72b5bb23",
   "metadata": {},
   "source": [
    "testing again"
   ]
  },
  {
   "cell_type": "code",
   "execution_count": null,
   "id": "cc61cb37-4c4f-4507-8960-cf4241f526c9",
   "metadata": {},
   "outputs": [],
   "source": []
  }
 ],
 "metadata": {
  "kernelspec": {
   "display_name": "Python 3-12 (COMM4190)",
   "language": "python",
   "name": "python3-12_comm4190"
  },
  "language_info": {
   "codemirror_mode": {
    "name": "ipython",
    "version": 3
   },
   "file_extension": ".py",
   "mimetype": "text/x-python",
   "name": "python",
   "nbconvert_exporter": "python",
   "pygments_lexer": "ipython3",
   "version": "3.12.11"
  }
 },
 "nbformat": 4,
 "nbformat_minor": 5
}
